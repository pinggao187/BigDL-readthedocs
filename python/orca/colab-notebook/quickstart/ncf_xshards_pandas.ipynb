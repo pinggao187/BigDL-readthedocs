{
  "nbformat": 4,
  "nbformat_minor": 0,
  "metadata": {
    "colab": {
      "name": "ncf_xshards_pandas.ipynb",
      "provenance": [],
      "authorship_tag": "ABX9TyOM7ajYkrJiW2lmSTA1lvws",
      "include_colab_link": true
    },
    "kernelspec": {
      "name": "python3",
      "display_name": "Python 3"
    }
  },
  "cells": [
    {
      "cell_type": "markdown",
      "metadata": {
        "id": "view-in-github",
        "colab_type": "text"
      },
      "source": [
        "<a href=\"https://colab.research.google.com/github/intel-analytics/BigDL/blob/branch-2.0/python/orca/colab-notebook/quickstart/ncf_xshards_pandas.ipynb\" target=\"_parent\"><img src=\"https://colab.research.google.com/assets/colab-badge.svg\" alt=\"Open In Colab\"/></a>"
      ]
    },
    {
      "cell_type": "markdown",
      "metadata": {
        "id": "ctQfvcg3zVwO"
      },
      "source": [
        "\r\n",
        "![image.png](data:image/png;base64,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)\n",
        "---"
      ]
    },
    {
      "cell_type": "markdown",
      "metadata": {
        "id": "-GW5WAqASSYH"
      },
      "source": [
        "## **Environment Preparation**"
      ]
    },
    {
      "cell_type": "markdown",
      "metadata": {
        "id": "zpi0yh_mzeJt"
      },
      "source": [
        "**Install Java 8**\r\n",
        "\r\n",
        "Run the cell on the **Google Colab** to install jdk 1.8.\r\n",
        "\r\n",
        "**Note:** if you run this notebook on your computer, root permission is required when running the cell to install Java 8. (You may ignore this cell if Java 8 has already been set up in your computer)."
      ]
    },
    {
      "cell_type": "code",
      "metadata": {
        "id": "BCGEV3WdSxfk"
      },
      "source": [
        "# Install jdk8\r\n",
        "!apt-get install openjdk-8-jdk-headless -qq > /dev/null\r\n",
        "import os\r\n",
        "# Set environment variable JAVA_HOME.\r\n",
        "os.environ[\"JAVA_HOME\"] = \"/usr/lib/jvm/java-8-openjdk-amd64\"\r\n",
        "!update-alternatives --set java /usr/lib/jvm/java-8-openjdk-amd64/jre/bin/java\r\n",
        "!java -version"
      ],
      "execution_count": null,
      "outputs": []
    },
    {
      "cell_type": "markdown",
      "metadata": {
        "id": "9AYiL0wdzlbr"
      },
      "source": [
        "**Install BigDL Orca**\r\n",
        "\r\n",
        "You can install the latest release version or latest pre-release version using `pip install --pre --upgrade bigdl-orca`. "
      ]
    },
    {
      "cell_type": "code",
      "metadata": {
        "id": "r1nWc6sIS22L"
      },
      "source": [
        "# Install latest release version of bigdl \r\n",
        "# Installing bigdl from pip will automatically install pyspark, bigdl, and their dependencies.\r\n",
        "!pip install --pre --upgrade bigdl-orca"
      ],
      "execution_count": null,
      "outputs": []
    },
    {
      "cell_type": "code",
      "metadata": {
        "id": "WR6mnxkJS3nd"
      },
      "source": [
        "# Install python dependencies\r\n",
        "!pip install tensorflow==1.15.0"
      ],
      "execution_count": null,
      "outputs": []
    },
    {
      "cell_type": "markdown",
      "metadata": {
        "id": "9fUm8BXjS-R4"
      },
      "source": [
        "## **Data-Parallel Pandas with XShards for Distributed Deep Learning** \r\n",
        "\r\n",
        "In this guide we will describe how to use `XShards` in Orca to process large-scale dataset using existing Pyhton codes in a distributed and data-parallel fashion."
      ]
    },
    {
      "cell_type": "markdown",
      "metadata": {
        "id": "TbhU3BPJzyCu"
      },
      "source": [
        "#### **Intialization** \r\n",
        "\r\n",
        "import necessary libraries"
      ]
    },
    {
      "cell_type": "code",
      "metadata": {
        "id": "2H0U2Jd5z4tC"
      },
      "source": [
        "import os\r\n",
        "import zipfile\r\n",
        "import argparse\r\n",
        "\r\n",
        "import numpy as np\r\n",
        "import tensorflow as tf\r\n",
        "\r\n",
        "from bigdl.dllib.feature.dataset import base\r\n",
        "from sklearn.model_selection import train_test_split\r\n",
        "\r\n",
        "from bigdl.orca import init_orca_context, stop_orca_context\r\n",
        "from bigdl.orca import OrcaContext\r\n",
        "from bigdl.orca.learn.tf.estimator import Estimator\r\n",
        "from bigdl.orca.data import SharedValue\r\n",
        "import bigdl.orca.data.pandas"
      ],
      "execution_count": null,
      "outputs": []
    },
    {
      "cell_type": "markdown",
      "metadata": {
        "id": "mQjrQBwkz7s6"
      },
      "source": [
        "### **Init Orca Context** "
      ]
    },
    {
      "cell_type": "code",
      "metadata": {
        "id": "P1SVUG3uz-EH"
      },
      "source": [
        "# recommended to set it to True when running BigDL in Jupyter notebook \r\n",
        "OrcaContext.log_output = True # (this will display terminal's stdout and stderr in the Jupyter notebook).\r\n",
        "\r\n",
        "cluster_mode = \"local\"\r\n",
        "\r\n",
        "if cluster_mode == \"local\":  \r\n",
        "    init_orca_context(cluster_mode=\"local\", cores=4) # run in local mode\r\n",
        "elif cluster_mode == \"yarn\":  \r\n",
        "    init_orca_context(cluster_mode=\"yarn-client\", num_nodes=2, cores=2, driver_memory=\"6g\") # run on Hadoop YARN cluster"
      ],
      "execution_count": null,
      "outputs": []
    },
    {
      "cell_type": "markdown",
      "metadata": {
        "id": "hK1Cla2h0BM8"
      },
      "source": [
        "### **Data Preprocessing with XShards**\r\n",
        "\r\n",
        "An XShards contains an automatically sharded (or partitioned) Python object (e.g., Pandas Dataframe, Numpy NDArray, Python Dictionary or List, etc.). Each partition of the XShards stores a subset of the Python object and is distributed across different nodes in the cluster; and the user may run arbitrary Python codes on each partition in a data-parallel fashion using `XShards.transform_shard`."
      ]
    },
    {
      "cell_type": "code",
      "metadata": {
        "id": "iX5YQVpUQ92i"
      },
      "source": [
        "# Download and extract movielens 1M data.\r\n",
        "url = 'http://files.grouplens.org/datasets/movielens/ml-1m.zip'\r\n",
        "local_file = base.maybe_download('ml-1m.zip', '.', url)\r\n",
        "if not os.path.exists('./ml-1m'):\r\n",
        "        zip_ref = zipfile.ZipFile(local_file, 'r')\r\n",
        "        zip_ref.extractall('.')\r\n",
        "        zip_ref.close()"
      ],
      "execution_count": 6,
      "outputs": []
    },
    {
      "cell_type": "code",
      "metadata": {
        "id": "1cYRAne6QklV"
      },
      "source": [
        "# Read in the dataset, and do a little preprocessing\r\n",
        "rating_files=\"./ml-1m/ratings.dat\"\r\n",
        "new_rating_files=\"./ml-1m/ratings_new.dat\"\r\n",
        "if not os.path.exists(new_rating_files):\r\n",
        "        fin = open(rating_files, \"rt\")\r\n",
        "        fout = open(new_rating_files, \"wt\")\r\n",
        "        for line in fin:\r\n",
        "            # replace :: to : for spark 2.4 support\r\n",
        "            fout.write(line.replace('::', ':'))\r\n",
        "        fin.close()\r\n",
        "        fout.close()"
      ],
      "execution_count": 7,
      "outputs": []
    },
    {
      "cell_type": "markdown",
      "metadata": {
        "id": "BUC8DXB0OrsZ"
      },
      "source": [
        "Read movive len csv to XShards of Pandas Dataframe."
      ]
    },
    {
      "cell_type": "code",
      "metadata": {
        "id": "-f2_JoVGSI1c"
      },
      "source": [
        "full_data = bigdl.orca.data.pandas.read_csv(new_rating_files, sep=':', header=None,\r\n",
        "                                          names=['user', 'item', 'label'], usecols=[0, 1, 2],\r\n",
        "                                          dtype={0: np.int32, 1: np.int32, 2: np.int32})\r\n",
        "user_set = set(full_data['user'].unique())\r\n",
        "item_set = set(full_data['item'].unique())\r\n",
        "\r\n",
        "min_user_id = min(user_set)\r\n",
        "max_user_id = max(user_set)\r\n",
        "min_item_id = min(item_set)\r\n",
        "max_item_id = max(item_set)\r\n",
        "print(min_user_id, max_user_id, min_item_id, max_item_id)"
      ],
      "execution_count": null,
      "outputs": []
    },
    {
      "cell_type": "markdown",
      "metadata": {
        "id": "rmplUTretUry"
      },
      "source": [
        "Use `XShards` to process large-scale dataset with existing Pyhton codes in a distributed and data-parallel fashion. \r\n",
        "Run Python codes on each partition in a data-parallel fashion using `XShards.transform_shard`, as shown below. "
      ]
    },
    {
      "cell_type": "code",
      "metadata": {
        "id": "NcVi7idySUdj"
      },
      "source": [
        "# update label starting from 0. That's because ratings go from 1 to 5, while the matrix columns go from 0 to 4\r\n",
        "def update_label(df):\r\n",
        "  df['label'] = df['label'] - 1\r\n",
        "  return df\r\n",
        "\r\n",
        "# run Python codes on each partition in a data-parallel fashion using `XShards.transform_shard`\r\n",
        "full_data = full_data.transform_shard(update_label)"
      ],
      "execution_count": 9,
      "outputs": []
    },
    {
      "cell_type": "code",
      "metadata": {
        "id": "HW7BCdAWoXGk",
        "outputId": "ed1bcce2-499b-4d22-fc25-c459c055d42f",
        "colab": {
          "base_uri": "https://localhost:8080/"
        }
      },
      "source": [
        "# split to train/test dataset\r\n",
        "def split_train_test(data):\r\n",
        "  train, test = train_test_split(data, test_size=0.2, random_state=100)\r\n",
        "  return train, test\r\n",
        "\r\n",
        "train_data, test_data = full_data.transform_shard(split_train_test).split()"
      ],
      "execution_count": 10,
      "outputs": []
    },
    {
      "cell_type": "markdown",
      "metadata": {
        "id": "Hw5EI0VKSpg8"
      },
      "source": [
        "### **Define NCF Model**"
      ]
    },
    {
      "cell_type": "code",
      "metadata": {
        "id": "MtmSkXcNS4jy"
      },
      "source": [
        "class NCF(object):\n",
        "    def __init__(self, embed_size, user_size, item_size):\n",
        "        self.user = tf.placeholder(dtype=tf.int32, shape=(None,))\n",
        "        self.item = tf.placeholder(dtype=tf.int32, shape=(None,))\n",
        "        self.label = tf.placeholder(dtype=tf.int32, shape=(None,))\n",
        "  \n",
        "        # GMF part starts\n",
        "        with tf.name_scope(\"GMF\"):\n",
        "            user_embed_GMF = tf.contrib.layers.embed_sequence(self.user, vocab_size=user_size + 1,\n",
        "                                                              embed_dim=embed_size)\n",
        "            item_embed_GMF = tf.contrib.layers.embed_sequence(self.item, vocab_size=item_size + 1,\n",
        "                                                              embed_dim=embed_size)\n",
        "            GMF = tf.multiply(user_embed_GMF, item_embed_GMF)\n",
        "\n",
        "        # MLP part starts\n",
        "        with tf.name_scope(\"MLP\"):\n",
        "            user_embed_MLP = tf.contrib.layers.embed_sequence(self.user, vocab_size=user_size + 1,\n",
        "                                                              embed_dim=embed_size)\n",
        "            item_embed_MLP = tf.contrib.layers.embed_sequence(self.item, vocab_size=item_size + 1,\n",
        "                                                              embed_dim=embed_size)\n",
        "            interaction = tf.concat([user_embed_MLP, item_embed_MLP], axis=-1)\n",
        "            layer1_MLP = tf.layers.dense(inputs=interaction, units=embed_size * 2)\n",
        "            layer1_MLP = tf.layers.dropout(layer1_MLP, rate=0.2)\n",
        "            layer2_MLP = tf.layers.dense(inputs=layer1_MLP, units=embed_size)\n",
        "            layer2_MLP = tf.layers.dropout(layer2_MLP, rate=0.2)\n",
        "            layer3_MLP = tf.layers.dense(inputs=layer2_MLP, units=embed_size // 2)\n",
        "            layer3_MLP = tf.layers.dropout(layer3_MLP, rate=0.2)\n",
        "\n",
        "        # Concate the two parts together\n",
        "        with tf.name_scope(\"concatenation\"):\n",
        "            concatenation = tf.concat([GMF, layer3_MLP], axis=-1)\n",
        "            self.logits = tf.layers.dense(inputs=concatenation, units=5)\n",
        "            self.logits_softmax = tf.nn.softmax(self.logits)\n",
        "            self.class_number = tf.argmax(self.logits_softmax, 1)\n",
        "\n",
        "        with tf.name_scope(\"loss\"):\n",
        "            self.loss = tf.reduce_mean(tf.nn.sparse_softmax_cross_entropy_with_logits(\n",
        "                labels=self.label, logits=self.logits, name='loss'))\n",
        "\n",
        "        with tf.name_scope(\"optimzation\"):\n",
        "            self.optim = tf.train.AdamOptimizer(1e-3, name='Adam')\n",
        "            self.optimizer = self.optim.minimize(self.loss)\n",
        "\n",
        "embedding_size=16\n",
        "model = NCF(embedding_size, max_user_id, max_item_id)"
      ],
      "execution_count": null,
      "outputs": []
    },
    {
      "cell_type": "markdown",
      "metadata": {
        "id": "-JA-pL2tgrJg"
      },
      "source": [
        "### **Fit with Orca Estimator**"
      ]
    },
    {
      "cell_type": "code",
      "metadata": {
        "id": "dYZRDHnFS8D2"
      },
      "source": [
        "batch_size=1280\r\n",
        "epochs=1\r\n",
        "model_dir='./'\r\n",
        "\r\n",
        "# create an Estimator.\r\n",
        "estimator = Estimator.from_graph(\r\n",
        "            inputs=[model.user, model.item],\r\n",
        "            outputs=[model.class_number],\r\n",
        "            labels=[model.label],\r\n",
        "            loss=model.loss,\r\n",
        "            optimizer=model.optim,\r\n",
        "            model_dir=model_dir,\r\n",
        "            metrics={\"loss\": model.loss})\r\n",
        "\r\n",
        "# fit the Estimator\r\n",
        "estimator.fit(data=train_data,\r\n",
        "              batch_size=1280,\r\n",
        "              epochs=1,\r\n",
        "              feature_cols=['user', 'item'],\r\n",
        "              label_cols=['label'],\r\n",
        "              validation_data=test_data)\r\n",
        "\r\n",
        "checkpoint_path = os.path.join(model_dir, \"NCF.ckpt\")\r\n",
        "estimator.save_tf_checkpoint(checkpoint_path)\r\n",
        "estimator.shutdown()"
      ],
      "execution_count": null,
      "outputs": []
    },
    {
      "cell_type": "code",
      "metadata": {
        "id": "T3Hw0PnVTCbR"
      },
      "source": [
        "# predict using the Estimator\r\n",
        "def predict(predict_data, user_size, item_size):\r\n",
        "\r\n",
        "    tf.reset_default_graph()\r\n",
        "\r\n",
        "    with tf.Session() as sess:\r\n",
        "        model = NCF(embedding_size, user_size, item_size)\r\n",
        "\r\n",
        "        saver = tf.train.Saver(tf.global_variables())\r\n",
        "        checkpoint_path = os.path.join(model_dir, \"NCF.ckpt\")\r\n",
        "        saver.restore(sess, checkpoint_path)\r\n",
        "\r\n",
        "        estimator = Estimator.from_graph(\r\n",
        "            inputs=[model.user, model.item],\r\n",
        "            outputs=[model.class_number],\r\n",
        "            sess=sess,\r\n",
        "            model_dir=model_dir\r\n",
        "        )\r\n",
        "        predict_result = estimator.predict(predict_data, feature_cols=['user', 'item'])\r\n",
        "        predictions = predict_result.collect()\r\n",
        "        assert 'prediction' in predictions[0]\r\n",
        "        print(predictions[0]['prediction'])"
      ],
      "execution_count": 15,
      "outputs": []
    },
    {
      "cell_type": "code",
      "metadata": {
        "id": "l5y5GuGATOX8"
      },
      "source": [
        "predict(test_data, max_user_id, max_item_id)"
      ],
      "execution_count": null,
      "outputs": []
    },
    {
      "cell_type": "code",
      "metadata": {
        "id": "l1n5JVz7TRCb"
      },
      "source": [
        "stop_orca_context()"
      ],
      "execution_count": null,
      "outputs": []
    }
  ]
}
